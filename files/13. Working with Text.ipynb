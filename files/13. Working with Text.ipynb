{
 "cells": [
  {
   "cell_type": "code",
   "execution_count": 2,
   "id": "498c6fcb",
   "metadata": {},
   "outputs": [],
   "source": [
    "import pandas as pd\n",
    "\n",
    "ufo = pd.read_csv('data/nuforc_reports.csv')\n",
    "denver = pd.read_csv('data/denver_crime.csv')\n",
    "titanic = pd.read_csv('data/titanic.csv')"
   ]
  },
  {
   "cell_type": "markdown",
   "id": "170e459f",
   "metadata": {},
   "source": [
    "## Part 1\n",
    "\n",
    "Capitalize, upper/lower methods and removing blank spaces with `strip()`"
   ]
  },
  {
   "cell_type": "code",
   "execution_count": 3,
   "id": "82f1f0ff",
   "metadata": {},
   "outputs": [
    {
     "data": {
      "text/plain": [
       "0                   410 n acoma st\n",
       "1               5571 n hannibal ct\n",
       "2                   2101 market st\n",
       "3         12300 block e albrook dr\n",
       "4             2500 s colorado blvd\n",
       "                    ...           \n",
       "536350           3333 w regis blvd\n",
       "536351           939 n galapago st\n",
       "536352           3010 s madison st\n",
       "536353               603 n inca st\n",
       "536354          5995 w hampden ave\n",
       "Name: INCIDENT_ADDRESS, Length: 536355, dtype: object"
      ]
     },
     "execution_count": 3,
     "metadata": {},
     "output_type": "execute_result"
    }
   ],
   "source": [
    "# Lower text in each string. Note, that capitalize method \n",
    "# capitalizes only the first character in each string\n",
    "\n",
    "denver['INCIDENT_ADDRESS'].str.lower()"
   ]
  },
  {
   "cell_type": "code",
   "execution_count": 5,
   "id": "93a7f900",
   "metadata": {},
   "outputs": [
    {
     "data": {
      "text/plain": [
       "0                   410 N Acoma St\n",
       "1               5571 N Hannibal Ct\n",
       "2                   2101 Market St\n",
       "3         12300 Block E Albrook Dr\n",
       "4             2500 S Colorado Blvd\n",
       "                    ...           \n",
       "536350           3333 W Regis Blvd\n",
       "536351           939 N Galapago St\n",
       "536352           3010 S Madison St\n",
       "536353               603 N Inca St\n",
       "536354          5995 W Hampden Ave\n",
       "Name: INCIDENT_ADDRESS, Length: 536355, dtype: object"
      ]
     },
     "execution_count": 5,
     "metadata": {},
     "output_type": "execute_result"
    }
   ],
   "source": [
    "# To capitalize every first letter of a single word in a string use title-method\n",
    "\n",
    "denver['INCIDENT_ADDRESS'].str.title()"
   ]
  },
  {
   "cell_type": "code",
   "execution_count": 6,
   "id": "cfa7a55a",
   "metadata": {},
   "outputs": [
    {
     "data": {
      "text/plain": [
       "0         4\n",
       "1         5\n",
       "2         2\n",
       "3         1\n",
       "4         2\n",
       "         ..\n",
       "536350    3\n",
       "536351    9\n",
       "536352    3\n",
       "536353    6\n",
       "536354    5\n",
       "Name: INCIDENT_ADDRESS, Length: 536355, dtype: object"
      ]
     },
     "execution_count": 6,
     "metadata": {},
     "output_type": "execute_result"
    }
   ],
   "source": [
    "# Syntax for selecting the first letter of each string in a column\n",
    "\n",
    "denver['INCIDENT_ADDRESS'].str[0]"
   ]
  },
  {
   "cell_type": "code",
   "execution_count": 7,
   "id": "7137f4c1",
   "metadata": {},
   "outputs": [
    {
     "data": {
      "text/plain": [
       "0         ACOMA\n",
       "1          HANN\n",
       "2         ARKET\n",
       "3         BLOCK\n",
       "4          COLO\n",
       "          ...  \n",
       "536350     REGI\n",
       "536351    GALAP\n",
       "536352     MADI\n",
       "536353    INCA \n",
       "536354     HAMP\n",
       "Name: INCIDENT_ADDRESS, Length: 536355, dtype: object"
      ]
     },
     "execution_count": 7,
     "metadata": {},
     "output_type": "execute_result"
    }
   ],
   "source": [
    "# Similarly it is possible to select precise number of letters in a string\n",
    "\n",
    "denver['INCIDENT_ADDRESS'].str[6:11]"
   ]
  },
  {
   "cell_type": "code",
   "execution_count": 33,
   "id": "33ac5a92",
   "metadata": {},
   "outputs": [
    {
     "data": {
      "text/plain": [
       "0      1. One  \n",
       "1    2.  TwO--?\n",
       "2    3:THREE   \n",
       "3        4_four\n",
       "dtype: object"
      ]
     },
     "execution_count": 33,
     "metadata": {},
     "output_type": "execute_result"
    }
   ],
   "source": [
    "a = pd.Series(['1. One  ', '2.  TwO--?', '3:THREE   ', '   4_four'])\n",
    "a"
   ]
  },
  {
   "cell_type": "code",
   "execution_count": 9,
   "id": "d66befee",
   "metadata": {},
   "outputs": [
    {
     "data": {
      "text/plain": [
       "0        1. One\n",
       "1    2.  TwO--?\n",
       "2       3:THREE\n",
       "3        4_four\n",
       "dtype: object"
      ]
     },
     "execution_count": 9,
     "metadata": {},
     "output_type": "execute_result"
    }
   ],
   "source": [
    "# Strip method removes blank spaces from both right and left sides of a string\n",
    "\n",
    "a.str.strip()"
   ]
  },
  {
   "cell_type": "code",
   "execution_count": 10,
   "id": "847897ef",
   "metadata": {},
   "outputs": [
    {
     "data": {
      "text/plain": [
       "0      One\n",
       "1      TwO\n",
       "2    THREE\n",
       "3     four\n",
       "dtype: object"
      ]
     },
     "execution_count": 10,
     "metadata": {},
     "output_type": "execute_result"
    }
   ],
   "source": [
    "# To remove specific characters use 'to_strip' method\n",
    "\n",
    "a.str.strip(to_strip = '1234.?:_- ')"
   ]
  },
  {
   "cell_type": "markdown",
   "id": "aa515238",
   "metadata": {},
   "source": [
    "## Part 2\n",
    "\n",
    "Splitting and replacing some parts of the text. `Str.contains` method"
   ]
  },
  {
   "cell_type": "code",
   "execution_count": 25,
   "id": "f67c94dd",
   "metadata": {},
   "outputs": [
    {
     "data": {
      "text/html": [
       "<div>\n",
       "<style scoped>\n",
       "    .dataframe tbody tr th:only-of-type {\n",
       "        vertical-align: middle;\n",
       "    }\n",
       "\n",
       "    .dataframe tbody tr th {\n",
       "        vertical-align: top;\n",
       "    }\n",
       "\n",
       "    .dataframe thead th {\n",
       "        text-align: right;\n",
       "    }\n",
       "</style>\n",
       "<table border=\"1\" class=\"dataframe\">\n",
       "  <thead>\n",
       "    <tr style=\"text-align: right;\">\n",
       "      <th></th>\n",
       "      <th>0</th>\n",
       "      <th>1</th>\n",
       "    </tr>\n",
       "  </thead>\n",
       "  <tbody>\n",
       "    <tr>\n",
       "      <th>0</th>\n",
       "      <td>St Louis, MO</td>\n",
       "      <td>None</td>\n",
       "    </tr>\n",
       "    <tr>\n",
       "      <th>1</th>\n",
       "      <td>Montreal, PQ</td>\n",
       "      <td>Chesterville, ON</td>\n",
       "    </tr>\n",
       "    <tr>\n",
       "      <th>2</th>\n",
       "      <td>Montreal, PQ</td>\n",
       "      <td>Chesterville, ON</td>\n",
       "    </tr>\n",
       "    <tr>\n",
       "      <th>3</th>\n",
       "      <td>Montreal, PQ</td>\n",
       "      <td>Chesterville, ON</td>\n",
       "    </tr>\n",
       "    <tr>\n",
       "      <th>4</th>\n",
       "      <td>Montreal, PQ</td>\n",
       "      <td>Chesterville, ON</td>\n",
       "    </tr>\n",
       "    <tr>\n",
       "      <th>...</th>\n",
       "      <td>...</td>\n",
       "      <td>...</td>\n",
       "    </tr>\n",
       "    <tr>\n",
       "      <th>1304</th>\n",
       "      <td>?</td>\n",
       "      <td>None</td>\n",
       "    </tr>\n",
       "    <tr>\n",
       "      <th>1305</th>\n",
       "      <td>?</td>\n",
       "      <td>None</td>\n",
       "    </tr>\n",
       "    <tr>\n",
       "      <th>1306</th>\n",
       "      <td>?</td>\n",
       "      <td>None</td>\n",
       "    </tr>\n",
       "    <tr>\n",
       "      <th>1307</th>\n",
       "      <td>?</td>\n",
       "      <td>None</td>\n",
       "    </tr>\n",
       "    <tr>\n",
       "      <th>1308</th>\n",
       "      <td>?</td>\n",
       "      <td>None</td>\n",
       "    </tr>\n",
       "  </tbody>\n",
       "</table>\n",
       "<p>1309 rows × 2 columns</p>\n",
       "</div>"
      ],
      "text/plain": [
       "                  0                  1\n",
       "0      St Louis, MO               None\n",
       "1     Montreal, PQ    Chesterville, ON\n",
       "2     Montreal, PQ    Chesterville, ON\n",
       "3     Montreal, PQ    Chesterville, ON\n",
       "4     Montreal, PQ    Chesterville, ON\n",
       "...             ...                ...\n",
       "1304              ?               None\n",
       "1305              ?               None\n",
       "1306              ?               None\n",
       "1307              ?               None\n",
       "1308              ?               None\n",
       "\n",
       "[1309 rows x 2 columns]"
      ]
     },
     "execution_count": 25,
     "metadata": {},
     "output_type": "execute_result"
    }
   ],
   "source": [
    "# Split method with 'expand' argument which converts Series into a Dataframe\n",
    "\n",
    "titanic['home.dest'].str.split('/', expand = True)[[0,1]]"
   ]
  },
  {
   "cell_type": "code",
   "execution_count": 40,
   "id": "bb4954ae",
   "metadata": {},
   "outputs": [
    {
     "data": {
      "text/plain": [
       "0                          St Louis, MO\n",
       "1       Montreal, PQ / Chesterville, ON\n",
       "2       Montreal, PQ / Chesterville, ON\n",
       "3       Montreal, PQ / Chesterville, ON\n",
       "4       Montreal, PQ / Chesterville, ON\n",
       "                     ...               \n",
       "1304                                  ?\n",
       "1305                                  ?\n",
       "1306                                  ?\n",
       "1307                                  ?\n",
       "1308                                  ?\n",
       "Name: home.dest, Length: 1309, dtype: object"
      ]
     },
     "execution_count": 40,
     "metadata": {},
     "output_type": "execute_result"
    }
   ],
   "source": [
    "titanic['home.dest']"
   ]
  },
  {
   "cell_type": "code",
   "execution_count": 32,
   "id": "b7a7c91a",
   "metadata": {},
   "outputs": [
    {
     "data": {
      "text/html": [
       "<div>\n",
       "<style scoped>\n",
       "    .dataframe tbody tr th:only-of-type {\n",
       "        vertical-align: middle;\n",
       "    }\n",
       "\n",
       "    .dataframe tbody tr th {\n",
       "        vertical-align: top;\n",
       "    }\n",
       "\n",
       "    .dataframe thead th {\n",
       "        text-align: right;\n",
       "    }\n",
       "</style>\n",
       "<table border=\"1\" class=\"dataframe\">\n",
       "  <thead>\n",
       "    <tr style=\"text-align: right;\">\n",
       "      <th></th>\n",
       "      <th>0</th>\n",
       "      <th>1</th>\n",
       "    </tr>\n",
       "  </thead>\n",
       "  <tbody>\n",
       "    <tr>\n",
       "      <th>0</th>\n",
       "      <td>Occurred</td>\n",
       "      <td>12/12/2019 18:43  (Entered as : 12/12/19 18:4...</td>\n",
       "    </tr>\n",
       "    <tr>\n",
       "      <th>1</th>\n",
       "      <td>Occurred</td>\n",
       "      <td>3/22/2019 18:30  (Entered as : 03/22/19 18:30...</td>\n",
       "    </tr>\n",
       "    <tr>\n",
       "      <th>2</th>\n",
       "      <td>Occurred</td>\n",
       "      <td>4/1/2019 15:45  (Entered as : April01.19) Rep...</td>\n",
       "    </tr>\n",
       "    <tr>\n",
       "      <th>3</th>\n",
       "      <td>Occurred</td>\n",
       "      <td>4/17/2019 02:00  (Entered as : 04-17-2019 2:0...</td>\n",
       "    </tr>\n",
       "    <tr>\n",
       "      <th>4</th>\n",
       "      <td>Occurred</td>\n",
       "      <td>3/15/2009 18:00  (Entered as : 03/15/09 18:00...</td>\n",
       "    </tr>\n",
       "    <tr>\n",
       "      <th>...</th>\n",
       "      <td>...</td>\n",
       "      <td>...</td>\n",
       "    </tr>\n",
       "    <tr>\n",
       "      <th>88120</th>\n",
       "      <td>Occurred</td>\n",
       "      <td>10/2/2019 20:00  (Entered as : 10/2/19 20:00)...</td>\n",
       "    </tr>\n",
       "    <tr>\n",
       "      <th>88121</th>\n",
       "      <td>Occurred</td>\n",
       "      <td>10/2/2019 20:00  (Entered as : 10/02/019 8:00...</td>\n",
       "    </tr>\n",
       "    <tr>\n",
       "      <th>88122</th>\n",
       "      <td>Occurred</td>\n",
       "      <td>10/2/2019 20:03  (Entered as : 10/02/19 20:03...</td>\n",
       "    </tr>\n",
       "    <tr>\n",
       "      <th>88123</th>\n",
       "      <td>Occurred</td>\n",
       "      <td>10/2/2019 22:00  (Entered as : 10/02/19 22:00...</td>\n",
       "    </tr>\n",
       "    <tr>\n",
       "      <th>88124</th>\n",
       "      <td>Occurred</td>\n",
       "      <td>10/2/2019 22:00  (Entered as : 10-02-19 22:00...</td>\n",
       "    </tr>\n",
       "  </tbody>\n",
       "</table>\n",
       "<p>88125 rows × 2 columns</p>\n",
       "</div>"
      ],
      "text/plain": [
       "               0                                                  1\n",
       "0      Occurred    12/12/2019 18:43  (Entered as : 12/12/19 18:4...\n",
       "1      Occurred    3/22/2019 18:30  (Entered as : 03/22/19 18:30...\n",
       "2      Occurred    4/1/2019 15:45  (Entered as : April01.19) Rep...\n",
       "3      Occurred    4/17/2019 02:00  (Entered as : 04-17-2019 2:0...\n",
       "4      Occurred    3/15/2009 18:00  (Entered as : 03/15/09 18:00...\n",
       "...          ...                                                ...\n",
       "88120  Occurred    10/2/2019 20:00  (Entered as : 10/2/19 20:00)...\n",
       "88121  Occurred    10/2/2019 20:00  (Entered as : 10/02/019 8:00...\n",
       "88122  Occurred    10/2/2019 20:03  (Entered as : 10/02/19 20:03...\n",
       "88123  Occurred    10/2/2019 22:00  (Entered as : 10/02/19 22:00...\n",
       "88124  Occurred    10/2/2019 22:00  (Entered as : 10-02-19 22:00...\n",
       "\n",
       "[88125 rows x 2 columns]"
      ]
     },
     "execution_count": 32,
     "metadata": {},
     "output_type": "execute_result"
    }
   ],
   "source": [
    "# To split string by ':' sign only once use 'n' argument\n",
    "\n",
    "ufo['stats'].str.split(':', expand = True, n = 1)"
   ]
  },
  {
   "cell_type": "code",
   "execution_count": 38,
   "id": "4449f0fd",
   "metadata": {},
   "outputs": [
    {
     "data": {
      "text/plain": [
       "0          5 \n",
       "1        3-5 \n",
       "2         NaN\n",
       "3         10 \n",
       "4          2 \n",
       "         ... \n",
       "88120      3 \n",
       "88121     20 \n",
       "88122     20 \n",
       "88123      2 \n",
       "88124      3 \n",
       "Name: duration, Length: 88125, dtype: object"
      ]
     },
     "execution_count": 38,
     "metadata": {},
     "output_type": "execute_result"
    }
   ],
   "source": [
    "# To replace portions of text at once use '|' operator\n",
    "\n",
    "ufo['duration'].str.replace(\"seconds|minutes\", \"\", regex = True)"
   ]
  },
  {
   "cell_type": "code",
   "execution_count": 39,
   "id": "7fcbfd6d",
   "metadata": {},
   "outputs": [
    {
     "data": {
      "text/plain": [
       "0          5 seconds\n",
       "1        3-5 seconds\n",
       "2                NaN\n",
       "3         10 seconds\n",
       "4          2 minutes\n",
       "            ...     \n",
       "88120      3 minutes\n",
       "88121     20 seconds\n",
       "88122     20 seconds\n",
       "88123      2 minutes\n",
       "88124      3 minutes\n",
       "Name: duration, Length: 88125, dtype: object"
      ]
     },
     "execution_count": 39,
     "metadata": {},
     "output_type": "execute_result"
    }
   ],
   "source": [
    "ufo['duration']"
   ]
  },
  {
   "cell_type": "code",
   "execution_count": 49,
   "id": "184c9fd3",
   "metadata": {},
   "outputs": [
    {
     "data": {
      "text/plain": [
       "116                week\n",
       "1636     till day break\n",
       "3388             3 days\n",
       "3996       several days\n",
       "4921             3 days\n",
       "              ...      \n",
       "84021            2 days\n",
       "84983            3 days\n",
       "85717     Till daylight\n",
       "86210            2 days\n",
       "87707            4 days\n",
       "Name: duration, Length: 173, dtype: object"
      ]
     },
     "execution_count": 49,
     "metadata": {},
     "output_type": "execute_result"
    }
   ],
   "source": [
    "# The same operator '|' logic works with 'contains' method\n",
    "\n",
    "ufo[ufo['duration'].str.contains(\"day|week\", na = False)]['duration']"
   ]
  }
 ],
 "metadata": {
  "kernelspec": {
   "display_name": "Python 3 (ipykernel)",
   "language": "python",
   "name": "python3"
  },
  "language_info": {
   "codemirror_mode": {
    "name": "ipython",
    "version": 3
   },
   "file_extension": ".py",
   "mimetype": "text/x-python",
   "name": "python",
   "nbconvert_exporter": "python",
   "pygments_lexer": "ipython3",
   "version": "3.10.12"
  }
 },
 "nbformat": 4,
 "nbformat_minor": 5
}
